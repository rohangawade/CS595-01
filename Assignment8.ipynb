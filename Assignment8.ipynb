{
 "cells": [
  {
   "cell_type": "markdown",
   "metadata": {},
   "source": [
    "<h1> CS 595 - Interactive Machine Learning </h1>\n",
    "<h2> Assignment 8 - Bernoulli Naive Bayes Transparency</h2>\n",
    "<h2>Rohan Digambar Gawade.</h2>\n",
    "<h2>A20379951</h2>"
   ]
  },
  {
   "cell_type": "markdown",
   "metadata": {},
   "source": [
    "<h1><b>DataSet: Bank Direct Marketing DataSet</b></h1>\n",
    "<h2>Description:</h2> The dataset contains the clients information collected through campaign by portueguese bank institution, so that we would know which clients the bank should target so that the clients will subscribe to the long term deposit scheme  of the bank.\n",
    "<br>\n",
    "The dataset consist of 20 attributes and one class label which is the binary valued attribute indicating whether the client has subscribe the scheme or not.\n",
    "<br>\n",
    "The dataset has around 41188 records. \n",
    "<h2>Features :\n",
    "Clients Data</h2>\n",
    "1 - age (numeric)<br>\n",
    "2 - job : type of job (categorical: \"admin.\",\"blue-collar\",\"entrepreneur\",\"housemaid\",\"management\",\"retired\",\"self-employed\",\"services\",\"student\",\"technician\",\"unemployed\",\"unknown\")<br>\n",
    "3 - marital : marital status (categorical: \"divorced\",\"married\",\"single\",\"unknown\"; note: \"divorced\" means divorced or widowed)<br>\n",
    "4 - education (categorical: \"basic.4y\",\"basic.6y\",\"basic.9y\",\"high.school\",\"illiterate\",\"professional.course\",\"university.degree\",\"unknown\")<br>\n",
    "5 - default: has credit in default? (categorical: \"no\",\"yes\",\"unknown\")<br>\n",
    "6 - housing: has housing loan? (categorical: \"no\",\"yes\",\"unknown\")<br>\n",
    "7 - loan: has personal loan? (categorical: \"no\",\"yes\",\"unknown\")\n",
    "<h2>Features related to the last contact of the current campaign</h2>\n",
    "8 - contact: contact communication type (categorical: \"cellular\",\"telephone\")<br> \n",
    "9 - month: last contact month of year (categorical: \"jan\", \"feb\", \"mar\", ..., \"nov\", \"dec\")<br>\n",
    "10 - day_of_week: last contact day of the week (categorical: \"mon\",\"tue\",\"wed\",\"thu\",\"fri\")<br>\n",
    "11 - duration: last contact duration, in seconds (numeric).\n",
    "<h2>Other Features</h2>\n",
    "12 - campaign: number of contacts performed during this campaign and for this client (numeric, includes last contact)<br>\n",
    "13 - pdays: number of days that passed by after the client was last contacted from a previous campaign (numeric; 999 means client was not previously contacted)<br>\n",
    "14 - previous: number of contacts performed before this campaign and for this client (numeric)<br>\n",
    "15 - poutcome: outcome of the previous marketing campaign (categorical: \"failure\",\"nonexistent\",\"success\")\n",
    "<h2>Social and economic context attributes</h2>\n",
    "16 - emp.var.rate: employment variation rate - quarterly indicator (numeric)<br>\n",
    "17 - cons.price.idx: consumer price index - monthly indicator (numeric)     <br>\n",
    "18 - cons.conf.idx: consumer confidence index - monthly indicator (numeric)     <br>\n",
    "19 - euribor3m: euribor 3 month rate - daily indicator (numeric)<br>\n",
    "20 - nr.employed: number of employees - quarterly indicator (numeric)\n",
    "<h2>Output variable (desired target):</h2>\n",
    "21 - y - has the client subscribed a term deposit? (binary: \"yes\",\"no\")<br>\n",
    "<b>Dataset source:</b> http://archive.ics.uci.edu/ml/datasets/Bank+Marketing <br>\n",
    "<b>Citation:</b> S. Moro, P. Cortez and P. Rita. A Data-Driven Approach to Predict the Success of Bank Telemarketing. Decision Support Systems, Elsevier, 62:22-31, June 2014"
   ]
  },
  {
   "cell_type": "code",
   "execution_count": 201,
   "metadata": {
    "collapsed": true
   },
   "outputs": [],
   "source": [
    "import pandas as pd\n",
    "import numpy as np\n",
    "import matplotlib.pyplot as plt\n",
    "import numpy as np\n",
    "from sklearn.model_selection import train_test_split\n",
    "from sklearn import tree\n",
    "from IPython.display import Image \n",
    "import pydotplus \n",
    "from sklearn import metrics\n",
    "from sklearn.utils import resample\n",
    "from sklearn.metrics import confusion_matrix\n",
    "from sklearn.preprocessing import LabelEncoder, OneHotEncoder\n",
    "from sklearn.metrics import roc_curve, auc\n",
    "import matplotlib.pyplot as plt\n",
    "import random\n",
    "from sklearn.model_selection import cross_val_score\n",
    "from sklearn.naive_bayes import BernoulliNB\n",
    "import math"
   ]
  },
  {
   "cell_type": "code",
   "execution_count": 202,
   "metadata": {
    "collapsed": true
   },
   "outputs": [],
   "source": [
    "# IMPORTING DATASET\n",
    "df_bank_addi = pd.read_csv(\"../bank-additional/bank-additional/bank-additional-full.csv\",\";\")"
   ]
  },
  {
   "cell_type": "code",
   "execution_count": 203,
   "metadata": {},
   "outputs": [
    {
     "data": {
      "text/html": [
       "<div>\n",
       "<style>\n",
       "    .dataframe thead tr:only-child th {\n",
       "        text-align: right;\n",
       "    }\n",
       "\n",
       "    .dataframe thead th {\n",
       "        text-align: left;\n",
       "    }\n",
       "\n",
       "    .dataframe tbody tr th {\n",
       "        vertical-align: top;\n",
       "    }\n",
       "</style>\n",
       "<table border=\"1\" class=\"dataframe\">\n",
       "  <thead>\n",
       "    <tr style=\"text-align: right;\">\n",
       "      <th></th>\n",
       "      <th>age</th>\n",
       "      <th>job</th>\n",
       "      <th>marital</th>\n",
       "      <th>education</th>\n",
       "      <th>default</th>\n",
       "      <th>housing</th>\n",
       "      <th>loan</th>\n",
       "      <th>contact</th>\n",
       "      <th>month</th>\n",
       "      <th>day_of_week</th>\n",
       "      <th>...</th>\n",
       "      <th>campaign</th>\n",
       "      <th>pdays</th>\n",
       "      <th>previous</th>\n",
       "      <th>poutcome</th>\n",
       "      <th>emp.var.rate</th>\n",
       "      <th>cons.price.idx</th>\n",
       "      <th>cons.conf.idx</th>\n",
       "      <th>euribor3m</th>\n",
       "      <th>nr.employed</th>\n",
       "      <th>y</th>\n",
       "    </tr>\n",
       "  </thead>\n",
       "  <tbody>\n",
       "    <tr>\n",
       "      <th>0</th>\n",
       "      <td>56</td>\n",
       "      <td>housemaid</td>\n",
       "      <td>married</td>\n",
       "      <td>basic.4y</td>\n",
       "      <td>no</td>\n",
       "      <td>no</td>\n",
       "      <td>no</td>\n",
       "      <td>telephone</td>\n",
       "      <td>may</td>\n",
       "      <td>mon</td>\n",
       "      <td>...</td>\n",
       "      <td>1</td>\n",
       "      <td>999</td>\n",
       "      <td>0</td>\n",
       "      <td>nonexistent</td>\n",
       "      <td>1.1</td>\n",
       "      <td>93.994</td>\n",
       "      <td>-36.4</td>\n",
       "      <td>4.857</td>\n",
       "      <td>5191.0</td>\n",
       "      <td>no</td>\n",
       "    </tr>\n",
       "    <tr>\n",
       "      <th>1</th>\n",
       "      <td>57</td>\n",
       "      <td>services</td>\n",
       "      <td>married</td>\n",
       "      <td>high.school</td>\n",
       "      <td>unknown</td>\n",
       "      <td>no</td>\n",
       "      <td>no</td>\n",
       "      <td>telephone</td>\n",
       "      <td>may</td>\n",
       "      <td>mon</td>\n",
       "      <td>...</td>\n",
       "      <td>1</td>\n",
       "      <td>999</td>\n",
       "      <td>0</td>\n",
       "      <td>nonexistent</td>\n",
       "      <td>1.1</td>\n",
       "      <td>93.994</td>\n",
       "      <td>-36.4</td>\n",
       "      <td>4.857</td>\n",
       "      <td>5191.0</td>\n",
       "      <td>no</td>\n",
       "    </tr>\n",
       "    <tr>\n",
       "      <th>2</th>\n",
       "      <td>37</td>\n",
       "      <td>services</td>\n",
       "      <td>married</td>\n",
       "      <td>high.school</td>\n",
       "      <td>no</td>\n",
       "      <td>yes</td>\n",
       "      <td>no</td>\n",
       "      <td>telephone</td>\n",
       "      <td>may</td>\n",
       "      <td>mon</td>\n",
       "      <td>...</td>\n",
       "      <td>1</td>\n",
       "      <td>999</td>\n",
       "      <td>0</td>\n",
       "      <td>nonexistent</td>\n",
       "      <td>1.1</td>\n",
       "      <td>93.994</td>\n",
       "      <td>-36.4</td>\n",
       "      <td>4.857</td>\n",
       "      <td>5191.0</td>\n",
       "      <td>no</td>\n",
       "    </tr>\n",
       "    <tr>\n",
       "      <th>3</th>\n",
       "      <td>40</td>\n",
       "      <td>admin.</td>\n",
       "      <td>married</td>\n",
       "      <td>basic.6y</td>\n",
       "      <td>no</td>\n",
       "      <td>no</td>\n",
       "      <td>no</td>\n",
       "      <td>telephone</td>\n",
       "      <td>may</td>\n",
       "      <td>mon</td>\n",
       "      <td>...</td>\n",
       "      <td>1</td>\n",
       "      <td>999</td>\n",
       "      <td>0</td>\n",
       "      <td>nonexistent</td>\n",
       "      <td>1.1</td>\n",
       "      <td>93.994</td>\n",
       "      <td>-36.4</td>\n",
       "      <td>4.857</td>\n",
       "      <td>5191.0</td>\n",
       "      <td>no</td>\n",
       "    </tr>\n",
       "    <tr>\n",
       "      <th>4</th>\n",
       "      <td>56</td>\n",
       "      <td>services</td>\n",
       "      <td>married</td>\n",
       "      <td>high.school</td>\n",
       "      <td>no</td>\n",
       "      <td>no</td>\n",
       "      <td>yes</td>\n",
       "      <td>telephone</td>\n",
       "      <td>may</td>\n",
       "      <td>mon</td>\n",
       "      <td>...</td>\n",
       "      <td>1</td>\n",
       "      <td>999</td>\n",
       "      <td>0</td>\n",
       "      <td>nonexistent</td>\n",
       "      <td>1.1</td>\n",
       "      <td>93.994</td>\n",
       "      <td>-36.4</td>\n",
       "      <td>4.857</td>\n",
       "      <td>5191.0</td>\n",
       "      <td>no</td>\n",
       "    </tr>\n",
       "  </tbody>\n",
       "</table>\n",
       "<p>5 rows × 21 columns</p>\n",
       "</div>"
      ],
      "text/plain": [
       "   age        job  marital    education  default housing loan    contact  \\\n",
       "0   56  housemaid  married     basic.4y       no      no   no  telephone   \n",
       "1   57   services  married  high.school  unknown      no   no  telephone   \n",
       "2   37   services  married  high.school       no     yes   no  telephone   \n",
       "3   40     admin.  married     basic.6y       no      no   no  telephone   \n",
       "4   56   services  married  high.school       no      no  yes  telephone   \n",
       "\n",
       "  month day_of_week ...  campaign  pdays  previous     poutcome emp.var.rate  \\\n",
       "0   may         mon ...         1    999         0  nonexistent          1.1   \n",
       "1   may         mon ...         1    999         0  nonexistent          1.1   \n",
       "2   may         mon ...         1    999         0  nonexistent          1.1   \n",
       "3   may         mon ...         1    999         0  nonexistent          1.1   \n",
       "4   may         mon ...         1    999         0  nonexistent          1.1   \n",
       "\n",
       "   cons.price.idx  cons.conf.idx  euribor3m  nr.employed   y  \n",
       "0          93.994          -36.4      4.857       5191.0  no  \n",
       "1          93.994          -36.4      4.857       5191.0  no  \n",
       "2          93.994          -36.4      4.857       5191.0  no  \n",
       "3          93.994          -36.4      4.857       5191.0  no  \n",
       "4          93.994          -36.4      4.857       5191.0  no  \n",
       "\n",
       "[5 rows x 21 columns]"
      ]
     },
     "execution_count": 203,
     "metadata": {},
     "output_type": "execute_result"
    }
   ],
   "source": [
    "df_bank_addi.head()"
   ]
  },
  {
   "cell_type": "code",
   "execution_count": 204,
   "metadata": {
    "collapsed": true
   },
   "outputs": [],
   "source": [
    "# Removing the missing rows filled with unknown values\n",
    "\n",
    "df_bank_addi = df_bank_addi[df_bank_addi.contact != 'unknown'] \n",
    "df_bank_addi = df_bank_addi[df_bank_addi.job != 'unknown'] \n",
    "df_bank_addi = df_bank_addi[df_bank_addi.marital != 'unknown']\n",
    "df_bank_addi = df_bank_addi[df_bank_addi.education != 'unknown']\n",
    "df_bank_addi = df_bank_addi[df_bank_addi.default != 'unknown']\n",
    "df_bank_addi = df_bank_addi[df_bank_addi.housing != 'unknown']\n",
    "df_bank_addi = df_bank_addi[df_bank_addi.loan != 'unknown']\n",
    "df_bank_addi = df_bank_addi[df_bank_addi.month != 'unknown']\n",
    "df_bank_addi = df_bank_addi[df_bank_addi.day_of_week != 'unknown']"
   ]
  },
  {
   "cell_type": "code",
   "execution_count": 205,
   "metadata": {},
   "outputs": [
    {
     "data": {
      "text/plain": [
       "yes    3859\n",
       "no     3859\n",
       "Name: y, dtype: int64"
      ]
     },
     "execution_count": 205,
     "metadata": {},
     "output_type": "execute_result"
    }
   ],
   "source": [
    "#Down Sampling majority class to 3859\n",
    "df_majority = df_bank_addi[df_bank_addi.y == 'no']\n",
    "df_minority = df_bank_addi[df_bank_addi.y == 'yes']\n",
    "\n",
    "df_majority_downsampled = resample(df_majority, \n",
    "                                 replace=False,    # sample without replacement\n",
    "                                 n_samples=3859,     # to match minority class\n",
    "                                 random_state=123) # reproducible results\n",
    "\n",
    "# Combine minority class with downsampled majority class\n",
    "df_bank = pd.concat([df_majority_downsampled, df_minority])\n",
    "df_bank.head()\n",
    "# Display new class counts\n",
    "df_bank.y.value_counts()"
   ]
  },
  {
   "cell_type": "markdown",
   "metadata": {},
   "source": [
    "<h2> Binarizing the features</h2>\n"
   ]
  },
  {
   "cell_type": "code",
   "execution_count": 206,
   "metadata": {
    "collapsed": true
   },
   "outputs": [],
   "source": [
    "transform_list=['job','marital','education','default','housing','loan','contact','month','day_of_week','poutcome']\n",
    "df_bank = pd.get_dummies(df_bank,columns=transform_list,prefix=transform_list)"
   ]
  },
  {
   "cell_type": "code",
   "execution_count": 207,
   "metadata": {
    "collapsed": true
   },
   "outputs": [],
   "source": [
    "#Ordering Features\n",
    "colslist = list(df_bank.columns.values) \n",
    "colslist.pop(colslist.index('y')) \n",
    "df_bank = df_bank[colslist+['y']]\n",
    "# df_bank"
   ]
  },
  {
   "cell_type": "code",
   "execution_count": 208,
   "metadata": {
    "collapsed": true
   },
   "outputs": [],
   "source": [
    "def binarizeUsingMean(df_bin,attri):\n",
    "    #print(attri + \" \" +str(df_bin[attri].mean()))\n",
    "    mean = df_bin[attri].mean()\n",
    "    #print(mean)\n",
    "    strmean = str('%10.2f'%mean)\n",
    "    new_attr_name = attri+'>='+strmean.lstrip()\n",
    "    df_bin[attri] = np.where(df_bin[attri] >= mean , 1 , 0)\n",
    "    df_bin = df_bin.rename(columns={attri : new_attr_name})\n",
    "    return df_bin\n",
    "    "
   ]
  },
  {
   "cell_type": "code",
   "execution_count": 209,
   "metadata": {
    "collapsed": true
   },
   "outputs": [],
   "source": [
    "#binarize numerical features\n",
    "#pdays means number of days that passed by after the client was last contacted \n",
    "#from a previous campaign (numeric; 999 means client was not previously contacted)\n",
    "#So I binarized it based on client contacted and client not contacted previously\n",
    "df_bank['pdays'] = np.where(df_bank['pdays'] == 999, 0 , 1)\n",
    "\n",
    "binary_col_list = ['age','duration','campaign','previous','emp.var.rate','cons.price.idx','cons.conf.idx','euribor3m','nr.employed']\n",
    "for attribute in binary_col_list:\n",
    "    df_bank = binarizeUsingMean(df_bank,attribute)"
   ]
  },
  {
   "cell_type": "code",
   "execution_count": 210,
   "metadata": {},
   "outputs": [
    {
     "data": {
      "text/html": [
       "<div>\n",
       "<style>\n",
       "    .dataframe thead tr:only-child th {\n",
       "        text-align: right;\n",
       "    }\n",
       "\n",
       "    .dataframe thead th {\n",
       "        text-align: left;\n",
       "    }\n",
       "\n",
       "    .dataframe tbody tr th {\n",
       "        vertical-align: top;\n",
       "    }\n",
       "</style>\n",
       "<table border=\"1\" class=\"dataframe\">\n",
       "  <thead>\n",
       "    <tr style=\"text-align: right;\">\n",
       "      <th></th>\n",
       "      <th>age&gt;=39.69</th>\n",
       "      <th>duration&gt;=372.01</th>\n",
       "      <th>campaign&gt;=2.32</th>\n",
       "      <th>pdays</th>\n",
       "      <th>previous&gt;=0.33</th>\n",
       "      <th>emp.var.rate&gt;=-0.64</th>\n",
       "      <th>cons.price.idx&gt;=93.44</th>\n",
       "      <th>cons.conf.idx&gt;=-40.29</th>\n",
       "      <th>euribor3m&gt;=2.82</th>\n",
       "      <th>nr.employed&gt;=5129.77</th>\n",
       "      <th>...</th>\n",
       "      <th>month_sep</th>\n",
       "      <th>day_of_week_fri</th>\n",
       "      <th>day_of_week_mon</th>\n",
       "      <th>day_of_week_thu</th>\n",
       "      <th>day_of_week_tue</th>\n",
       "      <th>day_of_week_wed</th>\n",
       "      <th>poutcome_failure</th>\n",
       "      <th>poutcome_nonexistent</th>\n",
       "      <th>poutcome_success</th>\n",
       "      <th>y</th>\n",
       "    </tr>\n",
       "  </thead>\n",
       "  <tbody>\n",
       "    <tr>\n",
       "      <th>34393</th>\n",
       "      <td>0</td>\n",
       "      <td>0</td>\n",
       "      <td>1</td>\n",
       "      <td>0</td>\n",
       "      <td>1</td>\n",
       "      <td>0</td>\n",
       "      <td>0</td>\n",
       "      <td>0</td>\n",
       "      <td>0</td>\n",
       "      <td>0</td>\n",
       "      <td>...</td>\n",
       "      <td>0</td>\n",
       "      <td>0</td>\n",
       "      <td>0</td>\n",
       "      <td>1</td>\n",
       "      <td>0</td>\n",
       "      <td>0</td>\n",
       "      <td>1</td>\n",
       "      <td>0</td>\n",
       "      <td>0</td>\n",
       "      <td>no</td>\n",
       "    </tr>\n",
       "    <tr>\n",
       "      <th>8600</th>\n",
       "      <td>1</td>\n",
       "      <td>0</td>\n",
       "      <td>1</td>\n",
       "      <td>0</td>\n",
       "      <td>0</td>\n",
       "      <td>1</td>\n",
       "      <td>1</td>\n",
       "      <td>0</td>\n",
       "      <td>1</td>\n",
       "      <td>1</td>\n",
       "      <td>...</td>\n",
       "      <td>0</td>\n",
       "      <td>0</td>\n",
       "      <td>0</td>\n",
       "      <td>0</td>\n",
       "      <td>0</td>\n",
       "      <td>1</td>\n",
       "      <td>0</td>\n",
       "      <td>1</td>\n",
       "      <td>0</td>\n",
       "      <td>no</td>\n",
       "    </tr>\n",
       "    <tr>\n",
       "      <th>33600</th>\n",
       "      <td>0</td>\n",
       "      <td>0</td>\n",
       "      <td>0</td>\n",
       "      <td>0</td>\n",
       "      <td>1</td>\n",
       "      <td>0</td>\n",
       "      <td>0</td>\n",
       "      <td>0</td>\n",
       "      <td>0</td>\n",
       "      <td>0</td>\n",
       "      <td>...</td>\n",
       "      <td>0</td>\n",
       "      <td>0</td>\n",
       "      <td>0</td>\n",
       "      <td>0</td>\n",
       "      <td>1</td>\n",
       "      <td>0</td>\n",
       "      <td>1</td>\n",
       "      <td>0</td>\n",
       "      <td>0</td>\n",
       "      <td>no</td>\n",
       "    </tr>\n",
       "    <tr>\n",
       "      <th>20641</th>\n",
       "      <td>1</td>\n",
       "      <td>0</td>\n",
       "      <td>0</td>\n",
       "      <td>0</td>\n",
       "      <td>0</td>\n",
       "      <td>1</td>\n",
       "      <td>1</td>\n",
       "      <td>1</td>\n",
       "      <td>1</td>\n",
       "      <td>1</td>\n",
       "      <td>...</td>\n",
       "      <td>0</td>\n",
       "      <td>0</td>\n",
       "      <td>0</td>\n",
       "      <td>0</td>\n",
       "      <td>0</td>\n",
       "      <td>1</td>\n",
       "      <td>0</td>\n",
       "      <td>1</td>\n",
       "      <td>0</td>\n",
       "      <td>no</td>\n",
       "    </tr>\n",
       "    <tr>\n",
       "      <th>19612</th>\n",
       "      <td>0</td>\n",
       "      <td>1</td>\n",
       "      <td>0</td>\n",
       "      <td>0</td>\n",
       "      <td>0</td>\n",
       "      <td>1</td>\n",
       "      <td>1</td>\n",
       "      <td>1</td>\n",
       "      <td>1</td>\n",
       "      <td>1</td>\n",
       "      <td>...</td>\n",
       "      <td>0</td>\n",
       "      <td>0</td>\n",
       "      <td>0</td>\n",
       "      <td>1</td>\n",
       "      <td>0</td>\n",
       "      <td>0</td>\n",
       "      <td>0</td>\n",
       "      <td>1</td>\n",
       "      <td>0</td>\n",
       "      <td>no</td>\n",
       "    </tr>\n",
       "  </tbody>\n",
       "</table>\n",
       "<p>5 rows × 57 columns</p>\n",
       "</div>"
      ],
      "text/plain": [
       "       age>=39.69  duration>=372.01  campaign>=2.32  pdays  previous>=0.33  \\\n",
       "34393           0                 0               1      0               1   \n",
       "8600            1                 0               1      0               0   \n",
       "33600           0                 0               0      0               1   \n",
       "20641           1                 0               0      0               0   \n",
       "19612           0                 1               0      0               0   \n",
       "\n",
       "       emp.var.rate>=-0.64  cons.price.idx>=93.44  cons.conf.idx>=-40.29  \\\n",
       "34393                    0                      0                      0   \n",
       "8600                     1                      1                      0   \n",
       "33600                    0                      0                      0   \n",
       "20641                    1                      1                      1   \n",
       "19612                    1                      1                      1   \n",
       "\n",
       "       euribor3m>=2.82  nr.employed>=5129.77 ...  month_sep  day_of_week_fri  \\\n",
       "34393                0                     0 ...          0                0   \n",
       "8600                 1                     1 ...          0                0   \n",
       "33600                0                     0 ...          0                0   \n",
       "20641                1                     1 ...          0                0   \n",
       "19612                1                     1 ...          0                0   \n",
       "\n",
       "       day_of_week_mon  day_of_week_thu  day_of_week_tue  day_of_week_wed  \\\n",
       "34393                0                1                0                0   \n",
       "8600                 0                0                0                1   \n",
       "33600                0                0                1                0   \n",
       "20641                0                0                0                1   \n",
       "19612                0                1                0                0   \n",
       "\n",
       "       poutcome_failure  poutcome_nonexistent  poutcome_success   y  \n",
       "34393                 1                     0                 0  no  \n",
       "8600                  0                     1                 0  no  \n",
       "33600                 1                     0                 0  no  \n",
       "20641                 0                     1                 0  no  \n",
       "19612                 0                     1                 0  no  \n",
       "\n",
       "[5 rows x 57 columns]"
      ]
     },
     "execution_count": 210,
     "metadata": {},
     "output_type": "execute_result"
    }
   ],
   "source": [
    "df_bank.head(5)"
   ]
  },
  {
   "cell_type": "code",
   "execution_count": 211,
   "metadata": {
    "collapsed": true
   },
   "outputs": [],
   "source": [
    "#Get List of Features\n",
    "features = list(df_bank.columns[:-1])\n",
    "#Target\n",
    "target = df_bank.columns[-1]\n",
    "\n",
    "X = df_bank[features]\n",
    "Y = df_bank[target]"
   ]
  },
  {
   "cell_type": "code",
   "execution_count": 212,
   "metadata": {
    "collapsed": true
   },
   "outputs": [],
   "source": [
    "#Train test split\n",
    "from sklearn.model_selection import train_test_split\n",
    "X_train,X_test,y_train,y_test = train_test_split(X,Y,test_size = 0.33, random_state = 0)"
   ]
  },
  {
   "cell_type": "code",
   "execution_count": 213,
   "metadata": {
    "collapsed": true
   },
   "outputs": [],
   "source": [
    "clf = BernoulliNB()\n",
    "clf.fit(X_train,y_train)\n",
    "prob_estimates = clf.predict_proba(X_train)"
   ]
  },
  {
   "cell_type": "code",
   "execution_count": 214,
   "metadata": {},
   "outputs": [
    {
     "name": "stdout",
     "output_type": "stream",
     "text": [
      "0.727915194346\n"
     ]
    }
   ],
   "source": [
    "print(clf.score(X_test,y_test))"
   ]
  },
  {
   "cell_type": "markdown",
   "metadata": {},
   "source": [
    "<h2> Getting conditional probability of each feature </h2>"
   ]
  },
  {
   "cell_type": "code",
   "execution_count": 215,
   "metadata": {
    "collapsed": true
   },
   "outputs": [],
   "source": [
    "flp =clf.feature_log_prob_\n",
    "featureprob = np.exp(flp)\n",
    "# feature with value =1 and class y = no\n",
    "feature_v_1_y_no = featureprob[0]\n",
    "# feature with value =1 and class y = yes\n",
    "feature_v_1_y_yes = featureprob[1]\n",
    "# taking feature ratio for value = 1 and taking log\n",
    "feature_ratio_v1 = feature_v_1_y_no/feature_v_1_y_yes\n",
    "feature_ratio_v1_log = np.log(feature_ratio_v1)\n",
    "\n",
    "# feature with value = 0 and class y = no\n",
    "feature_v_0_y_no = 1 - feature_v_1_y_no\n",
    "# feature with value = 0 and class y = yes\n",
    "feature_v_0_y_yes = 1 - feature_v_1_y_yes\n",
    "# taking feature ratio for value = 1 and taking log\n",
    "feature_ratio_v0 = feature_v_0_y_no/feature_v_0_y_yes\n",
    "feature_ratio_v0_log = np.log(feature_ratio_v0)\n",
    "# print(feature_ratio_v0_log)\n",
    "# print(feature_ratio_v1_log)"
   ]
  },
  {
   "cell_type": "code",
   "execution_count": 216,
   "metadata": {},
   "outputs": [
    {
     "data": {
      "text/plain": [
       "-0.0027074083449499082"
      ]
     },
     "execution_count": 216,
     "metadata": {},
     "output_type": "execute_result"
    }
   ],
   "source": [
    "# Log probability of the classes.\n",
    "classprob_no, classprob_yes = np.exp(clf.class_log_prior_)\n",
    "class_evidence = classprob_no/classprob_yes\n",
    "class_log_evidence = np.log(class_evidence)\n",
    "class_log_evidence"
   ]
  },
  {
   "cell_type": "code",
   "execution_count": 217,
   "metadata": {
    "collapsed": true
   },
   "outputs": [],
   "source": [
    "def get_PosNeg_Evidences(object_ID):\n",
    "    positive_evidence_set = []\n",
    "    negative_evidence_set = [] \n",
    "    #print(\"Object \"+str(object_ID))\n",
    "    for feature_i, value_i in enumerate(object_ID):\n",
    "        #print(\"Feature \"+str(feature_i)+\" \"+str(value_i))\n",
    "        if value_i == 0:\n",
    "            evidence_list.append(feature_ratio_v0_log[feature_i])\n",
    "            if feature_ratio_v0_log[feature_i] > 0:\n",
    "                #print(feature_ratio_v0_log[feature_i])\n",
    "                positive_evidence_set.append(feature_ratio_v0_log[feature_i])\n",
    "            else :\n",
    "                #print(feature_ratio_v0_log[feature_i])\n",
    "                negative_evidence_set.append(feature_ratio_v0_log[feature_i])\n",
    "        if value_i == 1:\n",
    "            evidence_list.append(feature_ratio_v1_log[feature_i])\n",
    "            if feature_ratio_v1_log[feature_i] > 0:\n",
    "                #print(feature_ratio_v1_log[feature_i])\n",
    "                positive_evidence_set.append(feature_ratio_v1_log[feature_i])\n",
    "            else :\n",
    "                #print(feature_ratio_v1_log[feature_i])\n",
    "                negative_evidence_set.append(feature_ratio_v1_log[feature_i])\n",
    "\n",
    "    # Adding the class log evidence to both positive and negative set\n",
    "    pos_evi = positive_evidence_set\n",
    "    neg_evi = negative_evidence_set\n",
    "    pos_evi.append(class_log_evidence)\n",
    "    neg_evi.append(class_log_evidence)\n",
    "    total_positive_evidence = sum(pos_evi)\n",
    "    total_negative_evidence = sum(neg_evi)\n",
    "    return(total_positive_evidence,total_negative_evidence)"
   ]
  },
  {
   "cell_type": "code",
   "execution_count": 218,
   "metadata": {
    "collapsed": true
   },
   "outputs": [],
   "source": [
    "def gettop_PosNeg_Features(object_ID,evidence_list):\n",
    "    top_features = 3\n",
    "    #total_pos_evi = np.array(total_pos_evi)\n",
    "    #print(total_pos_evi)\n",
    "    top_positive_positions = np.argsort(evidence_list)[-top_features:]\n",
    "    # print(top_positive_positions)\n",
    "    #total_neg_evi = np.abs(total_neg_evi)\n",
    "    top_negative_positions = np.argsort(evidence_list)[:top_features]\n",
    "    #print(top_negative_positions)\n",
    "    #print(np.argsort(evidence_list))\n",
    "    top_pos_features = []\n",
    "    top_neg_features = []\n",
    "    feature_nm = np.array(features)\n",
    "    for i in range(0,3):\n",
    "        top_pos_features.append({\"Feature Name\": features[top_positive_positions[i]], \"Value \":object_ID[top_positive_positions[i]]})\n",
    "        top_neg_features.append({\"Feature Name\": features[top_negative_positions[i]], \"Value \":object_ID[top_negative_positions[i]]})\n",
    "    return (top_pos_features,top_neg_features)"
   ]
  },
  {
   "cell_type": "code",
   "execution_count": 219,
   "metadata": {
    "collapsed": true
   },
   "outputs": [],
   "source": [
    "def get_EvidenceInformation(objectIndex,arrayIndex):\n",
    "    total_Pos_Evidence,total_Neg_Evidence = get_PosNeg_Evidences(objectIndex)\n",
    "    print(\"a) the total positive log-evidence = \"+str(total_Pos_Evidence))\n",
    "    print(\"b) the total negative log-evidence = \"+str(total_Neg_Evidence))\n",
    "    print(\"c) Probability Distribution = \"+str(prob_estimates[arrayIndex,]))\n",
    "    top_Pos_Feat,top_Neg_Feat = gettop_PosNeg_Features(objectIndex,evidence_list)\n",
    "    print(\"d) The top positive features are :\\n\"+str(top_Pos_Feat))\n",
    "    print(\"e )The top negative features are :\\n\"+str(top_Neg_Feat))"
   ]
  },
  {
   "cell_type": "code",
   "execution_count": 220,
   "metadata": {
    "collapsed": true
   },
   "outputs": [],
   "source": [
    "logestimates = clf.predict_log_proba(X_test)\n",
    "prob_estimates = clf.predict_proba(X_test)\n",
    "# prob_estimates"
   ]
  },
  {
   "cell_type": "markdown",
   "metadata": {},
   "source": [
    "<h2>Get following information</h2>\n",
    "a) the total positive log-evidence<br>  b) the total negative log-evidence<br> c) probability distribution<br> d) top 3 features values that contribute most to the positive evidence<br> e) top 3 feature values that contribute the most to the negative evidence. <br>Print this information on the following object types"
   ]
  },
  {
   "cell_type": "markdown",
   "metadata": {},
   "source": [
    "<h2>1. The most positive object with respect to the probabilities.</h2>"
   ]
  },
  {
   "cell_type": "code",
   "execution_count": 221,
   "metadata": {},
   "outputs": [
    {
     "name": "stdout",
     "output_type": "stream",
     "text": [
      "a) the total positive log-evidence = 9.66174494949\n",
      "b) the total negative log-evidence = -0.471490450643\n",
      "c) Probability Distribution = [  9.99898257e-01   1.01742682e-04]\n",
      "d) The top positive features are :\n",
      "[{'Feature Name': 'nr.employed>=5129.77', 'Value ': 1}, {'Feature Name': 'euribor3m>=2.82', 'Value ': 1}, {'Feature Name': 'emp.var.rate>=-0.64', 'Value ': 1}]\n",
      "e )The top negative features are :\n",
      "[{'Feature Name': 'cons.conf.idx>=-40.29', 'Value ': 1}, {'Feature Name': 'day_of_week_mon', 'Value ': 0}, {'Feature Name': 'month_jul', 'Value ': 0}]\n"
     ]
    }
   ],
   "source": [
    "evidence_list =[]\n",
    "positive_no_objIndex = np.argmax(prob_estimates[:,0])\n",
    "# print(X_test.iloc[positive_no_objIndex])\n",
    "most_pos_obj = X_test.iloc[positive_no_objIndex]\n",
    "get_EvidenceInformation(most_pos_obj,positive_no_objIndex)"
   ]
  },
  {
   "cell_type": "markdown",
   "metadata": {},
   "source": [
    "<h2>2. The most negative object with respect to the probabilities.</h2>"
   ]
  },
  {
   "cell_type": "code",
   "execution_count": 222,
   "metadata": {},
   "outputs": [
    {
     "name": "stdout",
     "output_type": "stream",
     "text": [
      "a) the total positive log-evidence = 0.343217460701\n",
      "b) the total negative log-evidence = -15.1230459053\n",
      "c) Probability Distribution = [  3.82276595e-07   9.99999618e-01]\n",
      "d) The top positive features are :\n",
      "[{'Feature Name': 'month_apr', 'Value ': 0}, {'Feature Name': 'job_retired', 'Value ': 0}, {'Feature Name': 'month_oct', 'Value ': 0}]\n",
      "e )The top negative features are :\n",
      "[{'Feature Name': 'poutcome_success', 'Value ': 1}, {'Feature Name': 'pdays', 'Value ': 1}, {'Feature Name': 'month_mar', 'Value ': 1}]\n"
     ]
    }
   ],
   "source": [
    "evidence_list =[]\n",
    "negative_yes_objIndex = np.argmax(prob_estimates[:,1])\n",
    "# print(X_train.iloc[negative_yes_objIndex])\n",
    "most_neg_obj = X_test.iloc[negative_yes_objIndex]\n",
    "get_EvidenceInformation(most_neg_obj,negative_yes_objIndex)"
   ]
  },
  {
   "cell_type": "markdown",
   "metadata": {
    "collapsed": true
   },
   "source": [
    "<h3>3. The object that has the largest positive evidence.</h3>"
   ]
  },
  {
   "cell_type": "code",
   "execution_count": 223,
   "metadata": {},
   "outputs": [
    {
     "name": "stdout",
     "output_type": "stream",
     "text": [
      "a) the total positive log-evidence = 9.66174494949\n",
      "b) the total negative log-evidence = -0.471490450643\n",
      "c) Probability Distribution = [  9.99898257e-01   1.01742682e-04]\n",
      "d) The top positive features are :\n",
      "[{'Feature Name': 'nr.employed>=5129.77', 'Value ': 1}, {'Feature Name': 'euribor3m>=2.82', 'Value ': 1}, {'Feature Name': 'emp.var.rate>=-0.64', 'Value ': 1}]\n",
      "e )The top negative features are :\n",
      "[{'Feature Name': 'cons.conf.idx>=-40.29', 'Value ': 1}, {'Feature Name': 'day_of_week_mon', 'Value ': 0}, {'Feature Name': 'month_jul', 'Value ': 0}]\n"
     ]
    }
   ],
   "source": [
    "# find positive evidence for all objects\n",
    "test_rows = X_test.shape[0]\n",
    "# test_rows\n",
    "all_pos_evidence = []\n",
    "all_neg_evidence = []\n",
    "\n",
    "for i in range(0,test_rows):\n",
    "    pos_evidence,neg_evidence = get_PosNeg_Evidences(X_test.iloc[i])\n",
    "    all_pos_evidence.append(pos_evidence)\n",
    "    all_neg_evidence.append(neg_evidence)\n",
    "\n",
    "evidence_list =[]    \n",
    "most_pos_evi_index = np.argmax(all_pos_evidence)\n",
    "most_pos_evi_obj = X_test.iloc[most_pos_evi_index]\n",
    "get_EvidenceInformation(most_pos_evi_obj,most_pos_evi_index)"
   ]
  },
  {
   "cell_type": "markdown",
   "metadata": {},
   "source": [
    "<h3>4. The object that has the largest positive evidence</h3>"
   ]
  },
  {
   "cell_type": "code",
   "execution_count": 224,
   "metadata": {},
   "outputs": [
    {
     "name": "stdout",
     "output_type": "stream",
     "text": [
      "a) the total positive log-evidence = 0.343217460701\n",
      "b) the total negative log-evidence = -15.1230459053\n",
      "c) Probability Distribution = [  3.82276595e-07   9.99999618e-01]\n",
      "d) The top positive features are :\n",
      "[{'Feature Name': 'month_apr', 'Value ': 0}, {'Feature Name': 'job_retired', 'Value ': 0}, {'Feature Name': 'month_oct', 'Value ': 0}]\n",
      "e )The top negative features are :\n",
      "[{'Feature Name': 'poutcome_success', 'Value ': 1}, {'Feature Name': 'pdays', 'Value ': 1}, {'Feature Name': 'month_mar', 'Value ': 1}]\n"
     ]
    }
   ],
   "source": [
    "evidence_list =[]    \n",
    "most_neg_evi_index = np.argmin(all_pos_evidence)\n",
    "most_neg_evi_obj = X_test.iloc[most_neg_evi_index]\n",
    "get_EvidenceInformation(most_neg_evi_obj,most_neg_evi_index)"
   ]
  },
  {
   "cell_type": "markdown",
   "metadata": {},
   "source": [
    "<h3> 5. The most uncertain object (the probabilities are closest to 0.5)\n",
    "</h3>"
   ]
  },
  {
   "cell_type": "code",
   "execution_count": 225,
   "metadata": {},
   "outputs": [
    {
     "name": "stdout",
     "output_type": "stream",
     "text": [
      "a) the total positive log-evidence = 4.84677787027\n",
      "b) the total negative log-evidence = -4.86364987\n",
      "c) Probability Distribution = [ 0.49645891  0.50354109]\n",
      "d) The top positive features are :\n",
      "[{'Feature Name': 'month_may', 'Value ': 1}, {'Feature Name': 'contact_cellular', 'Value ': 0}, {'Feature Name': 'contact_telephone', 'Value ': 1}]\n",
      "e )The top negative features are :\n",
      "[{'Feature Name': 'duration>=372.01', 'Value ': 1}, {'Feature Name': 'emp.var.rate>=-0.64', 'Value ': 0}, {'Feature Name': 'euribor3m>=2.82', 'Value ': 0}]\n"
     ]
    }
   ],
   "source": [
    "difference = abs(prob_estimates[:,0])-abs(prob_estimates[:,1])\n",
    "#print(difference)\n",
    "uncertain_obj_index = np.abs(difference).argmin()\n",
    "# print(prob_estimates[uncertain_obj_index]) \n",
    "evidence_list =[]    \n",
    "uncertain_obj = X_test.iloc[uncertain_obj_index]\n",
    "get_EvidenceInformation(uncertain_obj,uncertain_obj_index)"
   ]
  }
 ],
 "metadata": {
  "kernelspec": {
   "display_name": "Python 3",
   "language": "python",
   "name": "python3"
  },
  "language_info": {
   "codemirror_mode": {
    "name": "ipython",
    "version": 3
   },
   "file_extension": ".py",
   "mimetype": "text/x-python",
   "name": "python",
   "nbconvert_exporter": "python",
   "pygments_lexer": "ipython3",
   "version": "3.6.1"
  }
 },
 "nbformat": 4,
 "nbformat_minor": 2
}
